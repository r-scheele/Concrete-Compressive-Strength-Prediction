{
 "cells": [
  {
   "cell_type": "code",
   "execution_count": 14,
   "id": "668a33e9",
   "metadata": {},
   "outputs": [
    {
     "name": "stdout",
     "output_type": "stream",
     "text": [
      "Python 3.11.6 (main, Oct  2 2023, 20:46:14) [Clang 14.0.3 (clang-1403.0.22.14.1)] on darwin\n",
      "Type \"help\", \"copyright\", \"credits\" or \"license\" for more information.\n",
      ">>> "
     ]
    }
   ],
   "source": [
    "\n",
    "!/usr/bin/env python\n",
    "# coding: utf-8"
   ]
  },
  {
   "cell_type": "code",
   "execution_count": null,
   "id": "e5758971",
   "metadata": {},
   "outputs": [],
   "source": [
    "\n",
    "# Concrete compressive strength prediction in civil engineering"
   ]
  },
  {
   "cell_type": "code",
   "execution_count": null,
   "id": "a76c6717",
   "metadata": {},
   "outputs": [],
   "source": [
    "\n",
    "# Important libraries\n",
    "import pandas as pd\n",
    "import matplotlib.pyplot as plt\n",
    "import matplotlib.cm as cm\n",
    "import seaborn as sns\n",
    "import numpy as np\n",
    "import itertools as it\n",
    "from sklearn.linear_model import LinearRegression  # Linear regression\n",
    "from sklearn.metrics import mean_squared_error        # Compute mean square error\n",
    "from sklearn.model_selection import train_test_split   # Splitting dataset into training and test data\n",
    "from sklearn.linear_model import Lasso              # Lasso Regression\n",
    "from sklearn.neighbors import KNeighborsRegressor   # KNN Neighbor\n",
    "from sklearn.svm import SVR                         # SVM\n",
    "from sklearn.neural_network import MLPRegressor     # MLP\n",
    "from sklearn import metrics\n",
    "get_ipython().run_line_magic('matplotlib', 'inline')\n",
    "from sklearn.preprocessing import PolynomialFeatures\n",
    "import statsmodels.api as sm"
   ]
  },
  {
   "cell_type": "code",
   "execution_count": null,
   "id": "80544fe2",
   "metadata": {},
   "outputs": [],
   "source": [
    "\n",
    "# Loading of dataset\n",
    "df = pd.read_csv('concrete_data.csv', sep=',')  # Create a dataframe\n",
    "df.head(5)   # Reading of first 5 rows"
   ]
  },
  {
   "cell_type": "code",
   "execution_count": null,
   "id": "7f74a3d9",
   "metadata": {},
   "outputs": [],
   "source": [
    "\n",
    "# Data Structuring\n",
    "print('Number of rows:', df.shape[0])\n",
    "print('Number of columns:', df.shape[1])\n",
    "print(df.info())"
   ]
  },
  {
   "cell_type": "code",
   "execution_count": null,
   "id": "2691b745",
   "metadata": {},
   "outputs": [],
   "source": [
    "\n",
    "# Missing Values\n",
    "print('Number of missing values:', df.isnull().sum())\n",
    "'The dataset contains no missing values'"
   ]
  },
  {
   "cell_type": "code",
   "execution_count": null,
   "id": "9b6adf22",
   "metadata": {},
   "outputs": [],
   "source": [
    "\n",
    "# Data visualization \n",
    "# 1 Correlation Matrix\n",
    "sns.heatmap(df.corr(), annot=True, linewidth=2)\n",
    "plt.title(\"Correlation between variables\")\n",
    "plt.show()\n",
    "\n",
    "# 2 Pair plot\n",
    "sns.pairplot(df, markers=\"h\")\n",
    "plt.show()\n",
    "\n",
    "# 3 Distribution plot\n",
    "sns.distplot(df['concrete_compressive_strength'], bins=10, color='b')\n",
    "plt.ylabel(\"Frequency\")\n",
    "plt.title('Distribution of concrete strength')"
   ]
  },
  {
   "cell_type": "code",
   "execution_count": null,
   "id": "2e8e88a3",
   "metadata": {},
   "outputs": [],
   "source": [
    "\n",
    "# Distribution of components of concrete\n",
    "cols = [i for i in df.columns if i not in 'compressive_strength']\n",
    "length = len(cols)\n",
    "cs = [\"b\", \"r\", \"g\", \"c\", \"m\", \"k\", \"lime\", \"c\"]\n",
    "fig = plt.figure(figsize=(13, 25))\n",
    "\n",
    "for i, j, k in it.zip_longest(cols, range(length), cs):\n",
    "    plt.subplot(4, 2, j+1)\n",
    "    ax = sns.distplot(df[i], color=k, rug=True)\n",
    "    ax.set_facecolor(\"w\")\n",
    "    plt.axvline(df[i].mean(), linestyle=\"dashed\", label=\"mean\", color=\"k\")\n",
    "    plt.legend(loc=\"best\")\n",
    "    plt.title(i, color=\"navy\")\n",
    "    plt.xlabel(\"\")"
   ]
  },
  {
   "cell_type": "code",
   "execution_count": null,
   "id": "dfd0ccae",
   "metadata": {},
   "outputs": [],
   "source": [
    "\n",
    "# Scatterplot between components\n",
    "fig = plt.figure(figsize=(13, 8))\n",
    "ax = fig.add_subplot(111)\n",
    "plt.scatter(df[\"water\"], df[\"cement\"],\n",
    "            c=df[\"concrete_compressive_strength\"], s=df[\"concrete_compressive_strength\"] * 3,\n",
    "            linewidth=1, edgecolor=\"k\", cmap=\"viridis\")\n",
    "ax.set_facecolor(\"w\")\n",
    "ax.set_xlabel(\"water\")\n",
    "ax.set_ylabel(\"cement\")\n",
    "lab = plt.colorbar()\n",
    "lab.set_label(\"concrete_compressive_strength\")\n",
    "plt.title(\"cement vs water\")\n",
    "plt.show()"
   ]
  },
  {
   "cell_type": "code",
   "execution_count": null,
   "id": "1d4ef9b9",
   "metadata": {},
   "outputs": [],
   "source": [
    "\n",
    "# Data Splitting\n",
    "# The dataset is divided into a 70 to 30 splitting between training data and test data\n",
    "train, test = train_test_split(df, test_size=.3, random_state=0)\n",
    "train_X = train[[x for x in train.columns if x not in [\"concrete_compressive_strength\"] + [\"age_months\"]]]\n",
    "train_Y = train[\"concrete_compressive_strength\"]\n",
    "test_X = test[[x for x in test.columns if x not in [\"concrete_compressive_strength\"] + [\"age_months\"]]]\n",
    "test_Y = test[\"concrete_compressive_strength\"]"
   ]
  },
  {
   "cell_type": "code",
   "execution_count": null,
   "id": "4fc1cbd4",
   "metadata": {},
   "outputs": [],
   "source": [
    "\n",
    "# Model 1 = Multiple linear regression\n",
    "# fit a model\n",
    "lm = LinearRegression()\n",
    "model = lm.fit(train_X, train_Y)\n",
    "predictions = lm.predict(test_X)\n",
    "m1 = model.score(test_X, test_Y)\n",
    "RMSE1 = np.sqrt(metrics.mean_squared_error(test_Y, predictions))\n",
    "print('Accuracy of model is', model.score(test_X, test_Y))\n",
    "print('Mean Absolute Error:', metrics.mean_absolute_error(test_Y, predictions))\n",
    "print('Mean Squared Error:', metrics.mean_squared_error(test_Y, predictions))\n",
    "print('Root Mean Squared Error:', np.sqrt(metrics.mean_squared_error(test_Y, predictions)))"
   ]
  },
  {
   "cell_type": "code",
   "execution_count": null,
   "id": "58478bae",
   "metadata": {},
   "outputs": [],
   "source": [
    "\n",
    "# Features Importance\n",
    "coef = pd.DataFrame(lm.coef_.ravel\n",
    "\n",
    "())\n",
    "coef['feat'] = train_X.columns\n",
    "c = coef['feat'].rows=['C', 'Bfs', 'Fa', 'W', 'Sp', 'Ca', 'Fa', 'a']\n",
    "num_colors = 8\n",
    "colors = cm.rainbow(np.linspace(0, 1, num_colors))\n",
    "plt.bar(c, coef[0], color=colors)\n",
    "plt.show()\n",
    "'where C: Cement, Bfs: Blast_furnace_slag, Fa: Fly_ash, W: water, Sp: Superplasticizer, Ca: Coarse_aggregate, Fa: Fine_aggregate, a: Age'"
   ]
  },
  {
   "cell_type": "code",
   "execution_count": null,
   "id": "4e4e5f0e",
   "metadata": {},
   "outputs": [],
   "source": [
    "\n",
    "# Plot of true value vs. predicted values\n",
    "dat = pd.DataFrame({'Actual': test_Y, 'Predicted': predictions})\n",
    "dat1 = dat.head(25)  # just a sample which shows top 25 columns\n",
    "dat1.plot(kind='bar', figsize=(7, 7))\n",
    "plt.grid(which='major', linestyle='-', linewidth='0.5', color='green')\n",
    "plt.grid(which='minor', linestyle=':', linewidth='0.5', color='black')\n",
    "plt.show()"
   ]
  },
  {
   "cell_type": "code",
   "execution_count": null,
   "id": "94fe887f",
   "metadata": {},
   "outputs": [],
   "source": [
    "\n",
    "# Model 2: LASSO Model\n",
    "las = Lasso(alpha=0.1)\n",
    "model2 = las.fit(train_X, train_Y)\n",
    "predictions2 = las.predict(test_X)\n",
    "m12 = model2.score(test_X, test_Y)\n",
    "RMSE12 = np.sqrt(metrics.mean_squared_error(test_Y, predictions2))\n",
    "print('Accuracy of model is', model2.score(test_X, test_Y))\n",
    "print('Mean Absolute Error:', metrics.mean_absolute_error(test_Y, predictions2))\n",
    "print('Mean Squared Error:', metrics.mean_squared_error(test_Y, predictions2))\n",
    "print('Root Mean Squared Error:', np.sqrt(metrics.mean_squared_error(test_Y, predictions2)))"
   ]
  },
  {
   "cell_type": "code",
   "execution_count": null,
   "id": "1010b834",
   "metadata": {},
   "outputs": [],
   "source": [
    "\n",
    "# Feature selection\n",
    "coef1 = pd.DataFrame(las.coef_.ravel())\n",
    "coef1['feat'] = train_X.columns\n",
    "c1 = coef['feat'].rows=['C', 'Bfs', 'Fa', 'W', 'Sp', 'Ca', 'Fa', 'a']\n",
    "num_colors = 8\n",
    "colors = cm.rainbow(np.linspace(0, 1, num_colors))\n",
    "plt.bar(c1, coef[0], color=colors)\n",
    "plt.show()"
   ]
  },
  {
   "cell_type": "code",
   "execution_count": null,
   "id": "9ec38e8c",
   "metadata": {},
   "outputs": [],
   "source": [
    "\n",
    "# Plot of true value vs. predicted values\n",
    "dat = pd.DataFrame({'Actual': test_Y, 'Predicted': predictions2})\n",
    "dat1 = dat.head(25)  # just a sample which shows top 25 columns\n",
    "dat1.plot(kind='bar', figsize=(7, 7))\n",
    "plt.grid(which='major', linestyle='-', linewidth='0.5', color='green')\n",
    "plt.grid(which='minor', linestyle=':', linewidth='0.5', color='black')\n",
    "plt.show()"
   ]
  },
  {
   "cell_type": "code",
   "execution_count": null,
   "id": "2c1395ef",
   "metadata": {},
   "outputs": [],
   "source": [
    "\n",
    "# Model 3: KNN Neighbor\n",
    "knn = KNeighborsRegressor()\n",
    "model3 = knn.fit(train_X, train_Y)\n",
    "predictions3 = knn.predict(test_X)\n",
    "m13 = model3.score(test_X, test_Y)\n",
    "RMSE13 = np.sqrt(metrics.mean_squared_error(test_Y, predictions3))\n",
    "print('Accuracy of model is', model3.score(test_X, test_Y))\n",
    "print('Mean Absolute Error:', metrics.mean_absolute_error(test_Y, predictions3))\n",
    "print('Mean Squared Error:', metrics.mean_squared_error(test_Y, predictions3))\n",
    "print('Root Mean Squared Error:', np.sqrt(metrics.mean_squared_error(test_Y, predictions3)))"
   ]
  },
  {
   "cell_type": "code",
   "execution_count": null,
   "id": "2b623c2c",
   "metadata": {},
   "outputs": [],
   "source": [
    "\n",
    "dat = pd.DataFrame({'Actual': test_Y, 'Predicted': predictions3})\n",
    "dat1 = dat.head(25)  # just a sample which shows top 25 columns\n",
    "dat1.plot(kind='bar', figsize=(7, 7))\n",
    "plt.grid(which='major', linestyle='-', linewidth='0.5', color='green')\n",
    "plt.grid(which='minor', linestyle=':', linewidth='0.5', color='black')\n",
    "plt.show()"
   ]
  },
  {
   "cell_type": "code",
   "execution_count": null,
   "id": "944f54f5",
   "metadata": {},
   "outputs": [],
   "source": [
    "\n",
    "svm = SVR(kernel='linear')\n",
    "model4 = svm.fit(train_X, train_Y)\n",
    "predictions4 = svm.predict(test_X)\n",
    "m4 = model4.score(test_X, test_Y)\n",
    "RMSE4 = np.sqrt(metrics.mean_squared_error(test_Y, predictions4))\n",
    "print('Accuracy of model is', model4.score(test_X, test_Y))\n",
    "print('Mean Absolute Error:', metrics.mean_absolute_error(test_Y, predictions4))\n",
    "print('Mean Squared Error:', metrics.mean_squared_error(test_Y, predictions4))\n",
    "print('Root Mean Squared Error:', np.sqrt(metrics.mean_squared_error(test_Y, predictions4)))"
   ]
  },
  {
   "cell_type": "code",
   "execution_count": null,
   "id": "fc552a47",
   "metadata": {},
   "outputs": [],
   "source": [
    "\n",
    "dat = pd.DataFrame({'Actual': test_Y, 'Predicted': predictions4})\n",
    "dat1 = dat.head(25)  # just a sample which shows top 25 columns\n",
    "dat1.plot(kind='bar', figsize=(7, 7))\n",
    "plt.grid(which='major', linestyle='-', linewidth='0.5',\n",
    "\n",
    " color='green')\n",
    "plt.grid(which='minor', linestyle=':', linewidth='0.5', color='black')\n",
    "plt.show()"
   ]
  },
  {
   "cell_type": "code",
   "execution_count": null,
   "id": "6590e85e",
   "metadata": {},
   "outputs": [],
   "source": [
    "\n",
    "# Polynomial degree 2\n",
    "\n",
    "train_X1 = PolynomialFeatures(degree=2, include_bias=False).fit_transform(train_X)\n",
    "test_X1 = PolynomialFeatures(degree=2, include_bias=False).fit_transform(test_X)\n",
    "regressor = LinearRegression()\n",
    "m1 = regressor.fit(train_X1, train_Y)\n",
    "y_pred = regressor.predict(test_X1)\n",
    "\n",
    "df = pd.DataFrame({'Actual': y_test, 'Predicted': y_pred})\n",
    "df1 = df.head(25)  # just a sample which shows top 25 columns\n",
    "df1.plot(kind='bar', figsize=(7, 7))\n",
    "plt.grid(which='major', linestyle='-', linewidth='0.5', color='green')\n",
    "plt.grid(which='minor', linestyle=':', linewidth='0.5', color='black')\n",
    "plt.show()\n",
    "\n",
    "# Model Performance\n",
    "p2 = m1.score(test_X1, test_Y)\n",
    "RMSE2 = np.sqrt(metrics.mean_squared_error(y_test, y_pred))\n",
    "\n",
    "print('Accuracy of model is', m1.score(test_X1, test_Y))\n",
    "print('Mean Absolute Error:', metrics.mean_absolute_error(y_test, y_pred))\n",
    "print('Mean Squared Error:', metrics.mean_squared_error(y_test, y_pred))\n",
    "print('Root Mean Squared Error:', np.sqrt(metrics.mean_squared_error(y_test, y_pred)))"
   ]
  },
  {
   "cell_type": "code",
   "execution_count": null,
   "id": "46d0bab7",
   "metadata": {},
   "outputs": [],
   "source": [
    "\n",
    "# Polynomial degree 3\n",
    "\n",
    "train_X1 = PolynomialFeatures(degree=3, include_bias=False).fit_transform(train_X)\n",
    "test_X1 = PolynomialFeatures(degree=3, include_bias=False).fit_transform(test_X)\n",
    "regressor = LinearRegression()\n",
    "m1 = regressor.fit(train_X1, train_Y)\n",
    "y_pred = regressor.predict(test_X1)\n",
    "\n",
    "df = pd.DataFrame({'Actual': y_test, 'Predicted': y_pred})\n",
    "df1 = df.head(25)  # just a sample which shows top 25 columns\n",
    "df1.plot(kind='bar', figsize=(7, 7))\n",
    "plt.grid(which='major', linestyle='-', linewidth='0.5', color='green')\n",
    "plt.grid(which='minor', linestyle=':', linewidth='0.5', color='black')\n",
    "plt.show()\n",
    "\n",
    "# Model Performance\n",
    "p3 = m1.score(test_X1, test_Y)\n",
    "RMSE3 = np.sqrt(metrics.mean_squared_error(y_test, y_pred))\n",
    "\n",
    "print('Accuracy of model is', m1.score(test_X1, test_Y))\n",
    "print('Mean Absolute Error:', metrics.mean_absolute_error(y_test, y_pred))\n",
    "print('Mean Squared Error:', metrics.mean_squared_error(y_test, y_pred))\n",
    "print('Root Mean Squared Error:', np.sqrt(metrics.mean_squared_error(y_test, y_pred)))"
   ]
  },
  {
   "cell_type": "code",
   "execution_count": null,
   "id": "026b08de",
   "metadata": {},
   "outputs": [],
   "source": [
    "\n",
    "# Model Comparison\n",
    "height = [m1, p2, p3, m12, m13, m4]\n",
    "bars = ('Linear', 'Poly n=2', 'Poly n=3', 'LASSO', 'KNN', 'SVM')\n",
    "y_pos = np.arange(len(bars))\n",
    "plt.bar(bars, height, color=colors)\n",
    "plt.xlabel('Models')\n",
    "plt.ylabel('Accuracy(%)')\n",
    "plt.show()"
   ]
  },
  {
   "cell_type": "code",
   "execution_count": null,
   "id": "f123a297",
   "metadata": {
    "lines_to_next_cell": 0
   },
   "outputs": [],
   "source": [
    "\n",
    "# Model Comparison\n",
    "height = [RMSE1, RMSE2, RMSE3, RMSE12, RMSE13, RMSE4]\n",
    "bars = ('Linear', 'Poly n=2', 'Poly n=3', 'LASSO', 'KNN', 'SVM')\n",
    "y_pos = np.arange(len(bars))\n",
    "plt.bar(bars, height, color=colors)\n",
    "plt.xlabel('Models')\n",
    "plt.ylabel('RMSE')\n",
    "plt.show()\n",
    "\n",
    "# Add Model 5: Multilayer Perceptron (MLP)"
   ]
  },
  {
   "cell_type": "code",
   "execution_count": null,
   "id": "10321a0f",
   "metadata": {
    "lines_to_next_cell": 0
   },
   "outputs": [],
   "source": [
    "\n",
    "mlp = MLPRegressor(hidden_layer_sizes=(100,), activation='relu', solver='adam', max_iter=500)\n",
    "mlp.fit(train_X, train_Y)\n",
    "predictions_mlp = mlp.predict(test_X)\n",
    "\n",
    "# Model Evaluation for MLP\n",
    "m5 = mlp.score(test_X, test_Y)\n",
    "RMSE5 = np.sqrt(mean_squared_error(test_Y, predictions_mlp))\n",
    "print('Accuracy of MLP model is', m5)\n",
    "print('Mean Absolute Error:', metrics.mean_absolute_error(test_Y, predictions_mlp))\n",
    "print('Mean Squared Error:', metrics.mean_squared_error(test_Y, predictions_mlp))\n",
    "print('Root Mean Squared Error:', RMSE5)\n",
    "\n",
    "# Plot of true value vs. predicted values for MLP"
   ]
  },
  {
   "cell_type": "code",
   "execution_count": null,
   "id": "bac0a937",
   "metadata": {
    "lines_to_next_cell": 0
   },
   "outputs": [],
   "source": [
    "\n",
    "dat_mlp = pd.DataFrame({'Actual': test_Y, 'Predicted': predictions_mlp})\n",
    "dat_mlp = dat_mlp.head(25)  # Just a sample which shows top 25 columns\n",
    "dat_mlp.plot(kind='bar', figsize=(7, 7))\n",
    "plt.grid(which='major', linestyle='-', linewidth='0.5', color='green')\n",
    "plt.grid(which='minor', linestyle=':', linewidth='0.5', color='black')\n",
    "plt.show()\n",
    "\n",
    "# Updating Model Comparison with MLP"
   ]
  },
  {
   "cell_type": "code",
   "execution_count": null,
   "id": "de2bffed",
   "metadata": {
    "lines_to_next_cell": 0
   },
   "outputs": [],
   "source": [
    "\n",
    "height_updated = [m1, p2, p3, m12, m13, m4, m5]\n",
    "bars_updated = ('Linear', 'Poly n=2', 'Poly n=3', 'LASSO', 'KNN', 'SVM', 'MLP')\n",
    "y_pos_updated = np.arange(len(bars_updated))\n",
    "plt.bar(bars_updated, height_updated, color=colors)\n",
    "plt.xlabel('Models')\n",
    "plt.ylabel('Accuracy(%)')\n",
    "plt.show()\n",
    "\n",
    "# Updating RMSE Comparison with MLP"
   ]
  },
  {
   "cell_type": "code",
   "execution_count": null,
   "id": "be183950",
   "metadata": {},
   "outputs": [],
   "source": [
    "\n",
    "height_rmse_updated = [RMSE1, RMSE2, RMSE3, RMSE12, RMSE13, RMSE4, RMSE5]\n",
    "bars_rmse_updated = ('Linear', 'Poly n=2', 'Poly n=3', 'LASSO', 'KNN', 'SVM', 'MLP')\n",
    "y_pos_rmse_updated = np.arange(len(bars_rmse_updated))\n",
    "plt.bar(bars_rmse_updated, height_rmse_updated, color=colors)\n",
    "plt.xlabel('Models')\n",
    "plt.ylabel('RMSE')\n",
    "plt.show()"
   ]
  }
 ],
 "metadata": {
  "jupytext": {
   "cell_metadata_filter": "-all",
   "main_language": "python",
   "notebook_metadata_filter": "-all"
  },
  "language_info": {
   "name": "python"
  }
 },
 "nbformat": 4,
 "nbformat_minor": 5
}
